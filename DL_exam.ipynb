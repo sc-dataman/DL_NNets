{
  "nbformat": 4,
  "nbformat_minor": 0,
  "metadata": {
    "colab": {
      "name": "DL Fundamentals end course exam.ipynb",
      "version": "0.3.2",
      "provenance": [],
      "collapsed_sections": [],
      "include_colab_link": true
    },
    "kernelspec": {
      "name": "python3",
      "display_name": "Python 3"
    }
  },
  "cells": [
    {
      "cell_type": "markdown",
      "metadata": {
        "id": "view-in-github",
        "colab_type": "text"
      },
      "source": [
        "<a href=\"https://colab.research.google.com/github/sc-dataman/DL_NNets/blob/master/DL_exam.ipynb\" target=\"_parent\"><img src=\"https://colab.research.google.com/assets/colab-badge.svg\" alt=\"Open In Colab\"/></a>"
      ]
    },
    {
      "cell_type": "markdown",
      "metadata": {
        "id": "b8KqvqPQrjkX",
        "colab_type": "text"
      },
      "source": [
        "# Deep Learning Fundamentals exam\n",
        "\n",
        "Note: the goal is not to achieve a very high accuracy but to structure the project and perform the necessary tasks in the right way."
      ]
    },
    {
      "cell_type": "code",
      "metadata": {
        "id": "N4F7f3jSspCV",
        "colab_type": "code",
        "colab": {}
      },
      "source": [
        "import tensorflow as tf\n",
        "import numpy as np\n",
        "import matplotlib.pyplot as plt"
      ],
      "execution_count": 0,
      "outputs": []
    },
    {
      "cell_type": "markdown",
      "metadata": {
        "id": "Byvm_FOlr7xU",
        "colab_type": "text"
      },
      "source": [
        "## Dataset\n",
        "\n",
        "For this exam you will need to use the CIFAR-10 dataset [Learning Multiple Layers of Features from Tiny Images, Alex Krizhevsky, 2009.]. You can find more information here\n",
        "\n",
        "https://www.cs.toronto.edu/~kriz/cifar.html\n",
        "\n",
        "The problem is to classify RGB 32x32 pixel images across 10 categories:\n",
        "\n",
        "* airplane\n",
        "* automobile\n",
        "* bird\n",
        "* cat\n",
        "* deer\n",
        "* dog\n",
        "* frog\n",
        "* horse\n",
        "* ship\n",
        "* truck\n",
        "\n",
        "\n",
        "\n",
        "\n"
      ]
    },
    {
      "cell_type": "markdown",
      "metadata": {
        "id": "yb1dWc4wskcD",
        "colab_type": "text"
      },
      "source": [
        "You can load the data with this code"
      ]
    },
    {
      "cell_type": "code",
      "metadata": {
        "id": "I49k4dE0snsx",
        "colab_type": "code",
        "outputId": "5256d9bb-d541-4e7d-e271-fea67ceefa49",
        "colab": {
          "base_uri": "https://localhost:8080/",
          "height": 53
        }
      },
      "source": [
        "(x_train, y_train), (x_test, y_test) = tf.keras.datasets.cifar10.load_data()"
      ],
      "execution_count": 0,
      "outputs": [
        {
          "output_type": "stream",
          "text": [
            "Downloading data from https://www.cs.toronto.edu/~kriz/cifar-10-python.tar.gz\n",
            "170500096/170498071 [==============================] - 4s 0us/step\n"
          ],
          "name": "stdout"
        }
      ]
    },
    {
      "cell_type": "code",
      "metadata": {
        "id": "7dEtBy3NvaZg",
        "colab_type": "code",
        "outputId": "9992ff8d-a6a2-40d2-d11e-9e5299223b6e",
        "colab": {
          "base_uri": "https://localhost:8080/",
          "height": 89
        }
      },
      "source": [
        "print(x_train.shape)\n",
        "print(y_train.shape)\n",
        "print(x_test.shape)\n",
        "print(y_test.shape)"
      ],
      "execution_count": 0,
      "outputs": [
        {
          "output_type": "stream",
          "text": [
            "(50000, 32, 32, 3)\n",
            "(50000, 1)\n",
            "(10000, 32, 32, 3)\n",
            "(10000, 1)\n"
          ],
          "name": "stdout"
        }
      ]
    },
    {
      "cell_type": "markdown",
      "metadata": {
        "id": "jB10c_lpst_f",
        "colab_type": "text"
      },
      "source": [
        "## Exercise 1 - Data exploration\n",
        "\n",
        "The first step of every machine learning project is data exploration. So to start perform the following tasks\n",
        "\n",
        "\n",
        "\n",
        "1.   Check if the classes are unbalanced or balanced. Add a small explanation of what can happen if the classes are unbalanced.\n",
        "2.   Print a few examples of each class\n",
        "3. Write a function that takes as input the label (0,1,2,3...) and gives as output a class name (see above) like \"bird\". This will help you in producing nice plots when you check your predictions.\n",
        "\n"
      ]
    },
    {
      "cell_type": "markdown",
      "metadata": {
        "id": "Cr-TVtL0udDX",
        "colab_type": "text"
      },
      "source": [
        "**Hints**: as we have done in class, you will find the labels in the arrays ```y_train``` and ```y_test```. The labels have the following format"
      ]
    },
    {
      "cell_type": "code",
      "metadata": {
        "id": "RwLAq_NFuoB4",
        "colab_type": "code",
        "outputId": "93731278-e6b1-44df-d5a2-0498ed7ae2e9",
        "colab": {
          "base_uri": "https://localhost:8080/",
          "height": 107
        }
      },
      "source": [
        "y_train[0:5]"
      ],
      "execution_count": 0,
      "outputs": [
        {
          "output_type": "execute_result",
          "data": {
            "text/plain": [
              "array([[6],\n",
              "       [9],\n",
              "       [9],\n",
              "       [4],\n",
              "       [1]], dtype=uint8)"
            ]
          },
          "metadata": {
            "tags": []
          },
          "execution_count": 3
        }
      ]
    },
    {
      "cell_type": "markdown",
      "metadata": {
        "id": "lZZ24SjYubPo",
        "colab_type": "text"
      },
      "source": [
        "## Exercise 2 - Network development and training\n",
        "\n",
        "1. Prepare the data for your network in the right way (Hint: flattening the images as one dimensional vector may be useful)\n",
        "2. Prepare the labels for classification (Hint: one-hot encoding may be useful)\n",
        "3. Create a network with 5 hidden layers, 30 neurons for each hidden layer, 10 neurons in the output layer: **what is the necessary activation function for the output layer?** (feel free to choose any activation function you like for the hidden layers)\n",
        "4. Train your network and answer the following questions:\n",
        "* How do you check if the network is learning correctly?\n",
        "* How do you check if the network is not learning anymore but has reached its maximum accuracy?\n",
        "* Is the network overfitting? How do you check that? (you don't have yet to solve this problem, if the network is overfitting you can simply ignore this problem for now)\n",
        "* What accuracy do you get with this network?\n",
        "5. Plot the confusion matrix for the classes and the prediction"
      ]
    },
    {
      "cell_type": "markdown",
      "metadata": {
        "id": "dj-gnvsHwhsQ",
        "colab_type": "text"
      },
      "source": [
        "## Exercise 3 - Network optimisation\n",
        "\n",
        "1. If the network is overfitting try some of the techniques we have used in the class to fight overfitting. List the most important 3 methods to fight overfitting (**Hint**: one has nothing to do with algorithms... Think about the data you have)\n",
        "2. Do Hyperparameter tuning to find the best performing network:\n",
        "* What parameters you want to try? Decide on 3-5 parameters that you want to vary\n",
        "* Write the code to perform Hyperparameter tuning automatically\n",
        "* Choose the parameter set that gives you the best accuracy. \n",
        "3. Describe briefly the best model you have found in this way."
      ]
    },
    {
      "cell_type": "markdown",
      "metadata": {
        "id": "heIWEPcOxPAe",
        "colab_type": "text"
      },
      "source": [
        "## Exercise 4 - Results presentation\n",
        "\n",
        "1. Describe briefly the best model you have found and the parameters you have chosen. Add a few words about what other network architectures may be useful in such a problem (remember we have looked at CNN and RNN in the course)\n",
        "2. Plot a few (at least 20) wrong prediction from your network (ca. 1-2 for each class), putting as a title the \"predicted class\" and the \"true class\". Try to explain why the network got the results wrong. Do the mistakes make sense or can you explain them?"
      ]
    },
    {
      "cell_type": "markdown",
      "metadata": {
        "id": "a7lr2l1-yGvC",
        "colab_type": "text"
      },
      "source": [
        "## Bonus Exercise (not mandatory)\n",
        "\n",
        "1. Take a different picture of one of the classes (from internet or with your smartphone) for example of a car and use the best model you have found to classify it. What result do you get? **Hint** Remember you may need to resize the image to the right resolution, convert it to a numpy array and so on."
      ]
    },
    {
      "cell_type": "code",
      "metadata": {
        "id": "92YIyywiyZWE",
        "colab_type": "code",
        "colab": {}
      },
      "source": [
        ""
      ],
      "execution_count": 0,
      "outputs": []
    }
  ]
}